{
  "nbformat": 4,
  "nbformat_minor": 0,
  "metadata": {
    "colab": {
      "name": "PasswordGenerator.ipynb",
      "provenance": [],
      "collapsed_sections": []
    },
    "kernelspec": {
      "name": "python3",
      "display_name": "Python 3"
    },
    "language_info": {
      "name": "python"
    }
  },
  "cells": [
    {
      "cell_type": "code",
      "execution_count": null,
      "metadata": {
        "id": "KyCt3GSilT4W",
        "colab": {
          "base_uri": "https://localhost:8080/"
        },
        "outputId": "b5ddf116-872b-4856-bff3-879568baa562"
      },
      "outputs": [
        {
          "output_type": "stream",
          "name": "stdout",
          "text": [
            "Whate type of password do you need:\n",
            "1. Just Fine\n",
            "2. Moderate\n",
            "3. Toughest\n",
            "4. Choose Password length\n",
            "Enter Choice: 1\n",
            "Your password is:  F#ja(85,\n"
          ]
        }
      ],
      "source": [
        "#Password generator\n",
        "\n",
        "#Method 1.\n",
        "import random\n",
        "s1=\"qwertyuioplkjhgfdsazxcvbnm1234567890QWERTYUIOPLKJHGFDSAZXCVBNM!@#$%^&*()_-+=',./?:;[]}{\"\n",
        "s=[];\n",
        "s.extend(list(s1));\n",
        "random.shuffle(s)\n",
        "print(\"Whate type of password do you need:\\n1. Just Fine\\n2. Moderate\\n3. Toughest\\n4. Choose Password length\")\n",
        "a=int(input(\"Enter Choice: \"))\n",
        "if(a==1):\n",
        "  print(\"Your password is: \",\"\".join(s[0:8]))\n",
        "elif(a==2):\n",
        "  print(\"Your password is: \",\"\".join(s[0:12]))\n",
        "elif(a==3):\n",
        "  print(\"Your password is: \",\"\".join(s[0:16]))\n",
        "elif(a==4):\n",
        "  b=int(input(\"Enter size: \"))\n",
        "  print(\"Your password is: \",\"\".join(s[0:b]))  \n",
        "\n",
        "\n"
      ]
    },
    {
      "cell_type": "code",
      "source": [
        "#Method\n",
        "import random\n",
        "s1=\"qwertyuioplkjhgfdsazxcvbnm\"\n",
        "s2=\"QWERTYUIOPLKJHGFDSAZXCVBNM\"\n",
        "s3=\"!@#$%^&*()_-+=',./?:;[]}{\"\n",
        "s4=\"1234567890\"\n",
        "print(\"Whate type of password do you need:\\n1. Just Fine\\n2. Moderate\\n3. Toughest\\n\")\n",
        "a=int(input(\"Enter Choice: \"))\n",
        "Pass=\"\"\n",
        "if(a==1):\n",
        "    for i in range(0,2):\n",
        "        pass_s1=random.choice(s1)\n",
        "        pass_s2=random.choice(s2)\n",
        "        pass_s3=random.choice(s3)\n",
        "        pass_s4=random.choice(s4)\n",
        "        Pass= Pass + pass_s1 + pass_s2 + pass_s4 + pass_s3         \n",
        "    print(\"Your password is: \",Pass)\n",
        "elif(a==2):\n",
        "    for i in range(0,3):\n",
        "        pass_s1=random.choice(s1)\n",
        "        pass_s2=random.choice(s2)\n",
        "        pass_s3=random.choice(s3)\n",
        "        pass_s4=random.choice(s4)\n",
        "        Pass= Pass + pass_s1 + pass_s2 + pass_s4 + pass_s3         \n",
        "    print(\"Your password is: \",Pass)\n",
        "elif(a==3):\n",
        "    for i in range(0,4):\n",
        "        pass_s1=random.choice(s1)\n",
        "        pass_s2=random.choice(s2)\n",
        "        pass_s3=random.choice(s3)\n",
        "        pass_s4=random.choice(s4)\n",
        "        Pass= Pass + pass_s1 + pass_s2 + pass_s4 + pass_s3         \n",
        "    print(\"Your password is: \",Pass)\n",
        "\n"
      ],
      "metadata": {
        "colab": {
          "base_uri": "https://localhost:8080/"
        },
        "id": "6EoEmBwstc5-",
        "outputId": "3cdee016-2802-4ffc-bfc2-8bb78b1e815f"
      },
      "execution_count": null,
      "outputs": [
        {
          "output_type": "stream",
          "name": "stdout",
          "text": [
            "Whate type of password do you need:\n",
            "1. Just Fine\n",
            "2. Moderate\n",
            "3. Toughest\n",
            "\n",
            "Enter Choice: 1\n",
            "Your password is:  rH2}zO2=\n"
          ]
        }
      ]
    }
  ]
}